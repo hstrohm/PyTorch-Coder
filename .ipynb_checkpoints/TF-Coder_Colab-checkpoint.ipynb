{
 "cells": [
  {
   "cell_type": "markdown",
   "metadata": {
    "id": "5u_aruynnBDo"
   },
   "source": [
    "##### Copyright 2020 Google LLC.\n",
    "\n",
    "Licensed under the Apache License, Version 2.0"
   ]
  },
  {
   "cell_type": "markdown",
   "metadata": {
    "id": "xKqvIgn4nFP7"
   },
   "source": [
    "Licensed under the Apache License, Version 2.0 (the \"License\");\n",
    "you may not use this file except in compliance with the License.\n",
    "You may obtain a copy of the License at\n",
    "\n",
    "https://www.apache.org/licenses/LICENSE-2.0\n",
    "\n",
    "Unless required by applicable law or agreed to in writing, software\n",
    "distributed under the License is distributed on an \"AS IS\" BASIS,\n",
    "WITHOUT WARRANTIES OR CONDITIONS OF ANY KIND, either express or implied.\n",
    "See the License for the specific language governing permissions and\n",
    "limitations under the License."
   ]
  },
  {
   "cell_type": "markdown",
   "metadata": {
    "id": "jSKzsPs5nMtg"
   },
   "source": [
    "# TensorFlow Coder (TF-Coder): A program synthesis tool for TensorFlow expressions"
   ]
  },
  {
   "cell_type": "markdown",
   "metadata": {
    "id": "7Myqm791nURE"
   },
   "source": [
    "**TensorFlow Coder** is a tool that helps you manipulate tensors with TensorFlow! If you provide an example of a tensor manipulation, TF-Coder will search for TensorFlow code that matches the example.\n",
    "\n",
    "Follow this [**tutorial**](https://github.com/google-research/tensorflow-coder/blob/master/Tutorial.md) to get familiar with TF-Coder.\n",
    "\n",
    "Make sure to connect to a runtime (click \"Connect\" in the top right corner)."
   ]
  },
  {
   "cell_type": "markdown",
   "metadata": {
    "id": "Iq76A8wwfMpC"
   },
   "source": [
    "## Step 0: Data collection request"
   ]
  },
  {
   "cell_type": "markdown",
   "metadata": {
    "id": "RyKI7_BpfSYl"
   },
   "source": [
    "**Note from the TF-Coder team at Google:**\n",
    "\n",
    "We are excited to bring you TF-Coder, which we hope will accelerate your TensorFlow development.\n",
    "\n",
    "We have one quick request first: we would like to log usage data for TF-Coder, so that we can identify scenarios where TF-Coder can be improved. This usage data will help us improve TF-Coder for everyone. We also believe that the usage data will be a valuable resource to the broader program synthesis research community. Please read the text below and then use the following cell to let us know whether we may log or release your usage data. Either way, you may still use the TF-Coder tool.\n",
    "\n",
    "---\n",
    "\n",
    "Collecting TF-Coder usage data will help Google improve the TF-Coder tool, and TensorFlow services more generally. This usage data includes (i) the problems you create, (ii) the settings for the TF-Coder tool, (iii) the TF-Coder tool's results for those problems, (iv) metadata relating to your session, problem and device you are using to use the TF-Coder tool, and (v) your location (determined by your IP address). The usage data does not include any other personally identifiable information. Please do not upload or provide any personal or confidential information to the TF-Coder tool.\n",
    "\n",
    "In addition to Google’s internal use of your usage data, Google would also like to release some of such data in a public dataset to facilitate related research and to promote reproducible research publications. If your usage data is released it will be done in an open source fashion, meaning anyone with access to the data may use it for their purposes.\n",
    "\n",
    "To opt-out of Google collecting your usage data entirely, uncheck the first box in the cell below. To opt out of your usage data being released as part of a public dataset, uncheck the second box. For the avoidance of doubt, if you only uncheck the second box, you are consenting to Google’s internal use of your usage data consistent with this disclosure. Regardless of your choice about sharing your usage data, you may still access and use the TF-Coder tool."
   ]
  },
  {
   "cell_type": "code",
   "execution_count": 1,
   "metadata": {
    "cellView": "form",
    "id": "Kc0H6a_dKLnb"
   },
   "outputs": [
    {
     "name": "stdout",
     "output_type": "stream",
     "text": [
      "Usage data may be collected and released in a public dataset.\n"
     ]
    }
   ],
   "source": [
    "#@title Run this cell after making your choices.\n",
    "\n",
    "allow_data_collection = True  #@param {type: \"boolean\"}\n",
    "include_in_dataset = True  #@param {type: \"boolean\"}\n",
    "\n",
    "if allow_data_collection:\n",
    "  if include_in_dataset:\n",
    "    print('Usage data may be collected and released in a public dataset.')\n",
    "  else:\n",
    "    print('Usage data may be collected but will not be publicly released.')\n",
    "else:\n",
    "  print('Usage data will not be collected.')"
   ]
  },
  {
   "cell_type": "markdown",
   "metadata": {
    "id": "UeQBWIOUgZSH"
   },
   "source": [
    "## Step 1: Installs and imports"
   ]
  },
  {
   "cell_type": "code",
   "execution_count": null,
   "metadata": {
    "cellView": "form",
    "id": "4K3bU0aSMEwK"
   },
   "outputs": [
    {
     "name": "stdout",
     "output_type": "stream",
     "text": [
      "\u001b[33mWARNING: Value for scheme.headers does not match. Please report this to <https://github.com/pypa/pip/issues/9617>\n",
      "distutils: /Library/Frameworks/Python.framework/Versions/3.8/include/python3.8/UNKNOWN\n",
      "sysconfig: /Library/Frameworks/Python.framework/Versions/3.8/include/python3.8\u001b[0m\n",
      "\u001b[33mWARNING: Additional context:\n",
      "user = False\n",
      "home = None\n",
      "root = None\n",
      "prefix = None\u001b[0m\n",
      "Collecting tensorflow-coder\n",
      "  Using cached tensorflow_coder-0.0.4-py3-none-any.whl (32.3 MB)\n",
      "Collecting tensorflow>=2.2.0\n",
      "  Downloading tensorflow-2.4.1-cp38-cp38-macosx_10_11_x86_64.whl (173.9 MB)\n",
      "\u001b[K     |████████████████████████████████| 173.9 MB 494 bytes/s  0:00:012  |▏                               | 1.1 MB 1.5 MB/s eta 0:01:57     |█▉                              | 10.0 MB 4.2 MB/s eta 0:00:39     |███▋                            | 19.4 MB 4.2 MB/s eta 0:00:37MB/s eta 0:00:38     |████                            | 22.0 MB 4.1 MB/s eta 0:00:38            | 26.8 MB 4.1 MB/s eta 0:00:37     |████████                        | 43.2 MB 20.0 MB/s eta 0:00:07     |███████████▌                    | 62.7 MB 11.7 MB/s eta 0:00:10     |███████████▊                    | 63.8 MB 833 kB/s eta 0:02:13     |█████████████▏                  | 71.5 MB 833 kB/s eta 0:02:03     |██████████████▌                 | 78.9 MB 2.0 MB/s eta 0:00:47  | 86.7 MB 4.0 MB/s eta 0:00:23     |████████████████                | 86.9 MB 4.0 MB/s eta 0:00:23     |████████████████▋               | 90.3 MB 4.0 MB/s eta 0:00:22     |██████████████████▌             | 100.8 MB 5.4 MB/s eta 0:00:14     |█████████████████████▊          | 117.9 MB 15.1 MB/s eta 0:00:04     |██████████████████████▊         | 123.4 MB 16.1 MB/s eta 0:00:04�███████████        | 130.0 MB 12.8 MB/s eta 0:00:04███████████████████████▌      | 138.4 MB 12.8 MB/s eta 0:00:03     |██████████████████████████      | 141.7 MB 5.4 MB/s eta 0:00:06 |██████████████████████████▌     | 144.3 MB 5.4 MB/s eta 0:00:06     |███████████████████████████▏    | 147.6 MB 12.8 MB/s eta 0:00:03MB/s eta 0:00:03 MB 3.7 MB/s eta 0:00:05     |█████████████████████████████   | 157.0 MB 3.7 MB/s eta 0:00:05\n",
      "\u001b[?25hRequirement already satisfied: numpy>=1.15.4 in /Library/Frameworks/Python.framework/Versions/3.8/lib/python3.8/site-packages (from tensorflow-coder) (1.19.4)\n",
      "Requirement already satisfied: six>=1.12.0 in /Users/hannastrohm/Library/Python/3.8/lib/python/site-packages (from tensorflow-coder) (1.15.0)\n",
      "Requirement already satisfied: funcsigs>=1.0.2 in /Library/Frameworks/Python.framework/Versions/3.8/lib/python3.8/site-packages (from tensorflow-coder) (1.0.2)\n",
      "Requirement already satisfied: absl-py>=0.6.1 in /Library/Frameworks/Python.framework/Versions/3.8/lib/python3.8/site-packages (from tensorflow-coder) (0.12.0)\n",
      "Collecting scikit-learn>=0.22.2\n",
      "  Downloading scikit_learn-0.24.2-cp38-cp38-macosx_10_13_x86_64.whl (7.2 MB)\n",
      "\u001b[K     |████████████████████████████████| 7.2 MB 688 kB/s eta 0:00:01\n",
      "\u001b[?25hRequirement already satisfied: scipy>=0.19.1 in /Library/Frameworks/Python.framework/Versions/3.8/lib/python3.8/site-packages (from scikit-learn>=0.22.2->tensorflow-coder) (1.6.2)\n",
      "Collecting threadpoolctl>=2.0.0\n",
      "  Using cached threadpoolctl-2.1.0-py3-none-any.whl (12 kB)\n",
      "Collecting joblib>=0.11\n",
      "  Downloading joblib-1.0.1-py3-none-any.whl (303 kB)\n",
      "\u001b[K     |████████████████████████████████| 303 kB 29.1 MB/s eta 0:00:01\n",
      "\u001b[?25hCollecting tensorflow-estimator<2.5.0,>=2.4.0\n",
      "  Using cached tensorflow_estimator-2.4.0-py2.py3-none-any.whl (462 kB)\n",
      "Requirement already satisfied: wrapt~=1.12.1 in /Users/hannastrohm/Library/Python/3.8/lib/python/site-packages (from tensorflow>=2.2.0->tensorflow-coder) (1.12.1)\n",
      "Collecting keras-preprocessing~=1.1.2\n",
      "  Using cached Keras_Preprocessing-1.1.2-py2.py3-none-any.whl (42 kB)\n",
      "Collecting opt-einsum~=3.3.0\n",
      "  Using cached opt_einsum-3.3.0-py3-none-any.whl (65 kB)\n",
      "Collecting termcolor~=1.1.0\n",
      "  Using cached termcolor-1.1.0.tar.gz (3.9 kB)\n",
      "Collecting grpcio~=1.32.0\n",
      "  Downloading grpcio-1.32.0-cp38-cp38-macosx_10_9_x86_64.whl (3.3 MB)\n",
      "\u001b[K     |████████████████████████████████| 3.3 MB 2.0 MB/s eta 0:00:01     |███████████▊                    | 1.2 MB 2.0 MB/s eta 0:00:02     |████████████████████████████    | 2.9 MB 2.0 MB/s eta 0:00:01\n",
      "\u001b[?25hCollecting flatbuffers~=1.12.0\n",
      "  Using cached flatbuffers-1.12-py2.py3-none-any.whl (15 kB)\n",
      "Collecting wheel~=0.35\n",
      "  Using cached wheel-0.36.2-py2.py3-none-any.whl (35 kB)\n",
      "Collecting astunparse~=1.6.3\n",
      "  Using cached astunparse-1.6.3-py2.py3-none-any.whl (12 kB)\n",
      "Collecting h5py~=2.10.0\n",
      "  Downloading h5py-2.10.0-cp38-cp38-macosx_10_9_x86_64.whl (3.0 MB)\n",
      "\u001b[K     |████████████████████████████████| 3.0 MB 15.9 MB/s eta 0:00:01    |█                               | 92 kB 17.1 MB/s eta 0:00:01     |████▎                           | 399 kB 15.9 MB/s eta 0:00:01 15.9 MB/s eta 0:00:01\n",
      "\u001b[?25hCollecting tensorboard~=2.4\n",
      "  Downloading tensorboard-2.5.0-py3-none-any.whl (6.0 MB)\n",
      "\u001b[K     |████████████████████████████████| 6.0 MB 13.1 MB/s eta 0:00:01\n",
      "\u001b[?25hCollecting gast==0.3.3\n",
      "  Using cached gast-0.3.3-py2.py3-none-any.whl (9.7 kB)\n",
      "Collecting protobuf>=3.9.2\n",
      "  Downloading protobuf-3.15.8-cp38-cp38-macosx_10_9_x86_64.whl (1.0 MB)\n",
      "\u001b[K     |████████████████████████████████| 1.0 MB 13.9 MB/s eta 0:00:01\n",
      "\u001b[?25hRequirement already satisfied: typing-extensions~=3.7.4 in /Library/Frameworks/Python.framework/Versions/3.8/lib/python3.8/site-packages (from tensorflow>=2.2.0->tensorflow-coder) (3.7.4.3)\n",
      "Collecting google-pasta~=0.2\n",
      "  Using cached google_pasta-0.2.0-py3-none-any.whl (57 kB)\n",
      "Collecting werkzeug>=0.11.15\n",
      "  Downloading Werkzeug-1.0.1-py2.py3-none-any.whl (298 kB)\n",
      "\u001b[K     |████████████████████████████████| 298 kB 691 kB/s eta 0:00:01█████████████▏       | 225 kB 691 kB/s eta 0:00:01\n",
      "\u001b[?25hRequirement already satisfied: setuptools>=41.0.0 in /Library/Frameworks/Python.framework/Versions/3.8/lib/python3.8/site-packages (from tensorboard~=2.4->tensorflow>=2.2.0->tensorflow-coder) (41.2.0)\n",
      "Collecting google-auth-oauthlib<0.5,>=0.4.1\n",
      "  Using cached google_auth_oauthlib-0.4.4-py2.py3-none-any.whl (18 kB)\n",
      "Collecting markdown>=2.6.8\n",
      "  Using cached Markdown-3.3.4-py3-none-any.whl (97 kB)\n",
      "Collecting tensorboard-data-server<0.7.0,>=0.6.0\n",
      "  Downloading tensorboard_data_server-0.6.0-py3-none-macosx_10_9_x86_64.whl (2.8 MB)\n",
      "\u001b[K     |████████████████████████████████| 2.8 MB 3.6 MB/s eta 0:00:01\n",
      "\u001b[?25hCollecting requests<3,>=2.21.0\n",
      "  Downloading requests-2.25.1-py2.py3-none-any.whl (61 kB)\n",
      "\u001b[K     |████████████████████████████████| 61 kB 4.2 MB/s  eta 0:00:01\n",
      "\u001b[?25hCollecting tensorboard-plugin-wit>=1.6.0\n",
      "  Using cached tensorboard_plugin_wit-1.8.0-py3-none-any.whl (781 kB)\n",
      "Collecting google-auth<2,>=1.6.3\n",
      "  Downloading google_auth-1.30.0-py2.py3-none-any.whl (146 kB)\n",
      "\u001b[K     |████████████████████████████████| 146 kB 10.1 MB/s eta 0:00:01\n",
      "\u001b[?25hCollecting cachetools<5.0,>=2.0.0\n",
      "  Downloading cachetools-4.2.2-py3-none-any.whl (11 kB)\n",
      "Collecting pyasn1-modules>=0.2.1\n",
      "  Using cached pyasn1_modules-0.2.8-py2.py3-none-any.whl (155 kB)\n",
      "Collecting rsa<5,>=3.1.4\n",
      "  Using cached rsa-4.7.2-py3-none-any.whl (34 kB)\n",
      "Collecting requests-oauthlib>=0.7.0\n",
      "  Using cached requests_oauthlib-1.3.0-py2.py3-none-any.whl (23 kB)\n",
      "Collecting pyasn1<0.5.0,>=0.4.6\n",
      "  Using cached pyasn1-0.4.8-py2.py3-none-any.whl (77 kB)\n",
      "Collecting chardet<5,>=3.0.2\n",
      "  Downloading chardet-4.0.0-py2.py3-none-any.whl (178 kB)\n",
      "\u001b[K     |████████████████████████████████| 178 kB 9.0 MB/s eta 0:00:01\n",
      "\u001b[?25hCollecting urllib3<1.27,>=1.21.1\n",
      "  Downloading urllib3-1.26.4-py2.py3-none-any.whl (153 kB)\n",
      "\u001b[K     |████████████████████████████████| 153 kB 16.7 MB/s eta 0:00:01\n",
      "\u001b[?25hCollecting idna<3,>=2.5\n",
      "  Downloading idna-2.10-py2.py3-none-any.whl (58 kB)\n",
      "\u001b[K     |████████████████████████████████| 58 kB 1.4 MB/s eta 0:00:011\n",
      "\u001b[?25hCollecting certifi>=2017.4.17\n",
      "  Downloading certifi-2020.12.5-py2.py3-none-any.whl (147 kB)\n",
      "\u001b[K     |████████████████████████████████| 147 kB 11.2 MB/s eta 0:00:01\n",
      "\u001b[?25hCollecting oauthlib>=3.0.0\n",
      "  Using cached oauthlib-3.1.0-py2.py3-none-any.whl (147 kB)\n",
      "Using legacy 'setup.py install' for termcolor, since package 'wheel' is not installed.\n",
      "Installing collected packages: urllib3, pyasn1, idna, chardet, certifi, rsa, requests, pyasn1-modules, oauthlib, cachetools, requests-oauthlib, google-auth, wheel, werkzeug, tensorboard-plugin-wit, tensorboard-data-server, protobuf, markdown, grpcio, google-auth-oauthlib, threadpoolctl, termcolor, tensorflow-estimator, tensorboard, opt-einsum, keras-preprocessing, joblib, h5py, google-pasta, gast, flatbuffers, astunparse, tensorflow, scikit-learn, tensorflow-coder\n"
     ]
    },
    {
     "name": "stdout",
     "output_type": "stream",
     "text": [
      "    Running setup.py install for termcolor ... \u001b[?25ldone\n"
     ]
    }
   ],
   "source": [
    "#@title Run this cell to install and import TF-Coder.\n",
    "\n",
    "ready = True\n",
    "try:\n",
    "  _ = (allow_data_collection, include_in_dataset)\n",
    "except NameError as e:\n",
    "  print('Please run the cell in Step 0 first.')\n",
    "  ready = False\n",
    "\n",
    "if ready:\n",
    "  # Import TensorFlow and NumPy in case the user wants to create the example\n",
    "  # programmatically.\n",
    "  import torch\n",
    "  import numpy as np\n",
    "  \n",
    "  !pip install tensorflow-coder\n",
    "  from tf_coder.value_search import colab_interface\n",
    "  from tf_coder.value_search import value_search_settings as settings_module\n",
    "\n",
    "  if allow_data_collection:\n",
    "    !pip install tensorflow-coder-colab-logging\n",
    "    from tf_coder_colab_logging import colab_logging\n",
    "\n",
    "  from google.colab import output\n",
    "  output.clear()\n",
    "\n",
    "  print('Imports successful. Loading models...')\n",
    "  colab_interface.warm_up()\n",
    "  print('Done. TF-Coder is now ready to use!')"
   ]
  },
  {
   "cell_type": "markdown",
   "metadata": {
    "id": "o_EbjwYGiU1Y"
   },
   "source": [
    "## Step 2: Describe the problem with an example"
   ]
  },
  {
   "cell_type": "markdown",
   "metadata": {
    "id": "GdTDDuFMiXlp"
   },
   "source": [
    "Provide an **input-output example**:\n",
    "\n",
    "* `inputs` is a dictionary containing one or more input tensors with variable names.\n",
    "* `output` is the corresponding output tensor.\n",
    "\n",
    "Tensors can be provided as lists (possibly multidimensional) or `tf.Tensor` objects.\n",
    "\n",
    "You may also specify relevant **scalar constants**. TF-Coder also uses heuristics to guess a few useful constants.\n",
    "\n",
    "Finally, it often helps to provide an **English description** of the desired tensor manipulation. This description can help the tool decide which TensorFlow operations to prioritize.\n",
    "\n",
    "_Note: Please do not include confidential or personal information._"
   ]
  },
  {
   "cell_type": "code",
   "execution_count": null,
   "metadata": {
    "id": "lWNAIUNgg3RJ"
   },
   "outputs": [],
   "source": [
    "# Edit this cell! Follow the format of the example below.\n",
    "\n",
    "# A dict mapping input variable names to input tensors.\n",
    "inputs = {\n",
    "    'rows': [10, 20, 30],\n",
    "    'cols': [1, 2, 3, 4],\n",
    "}\n",
    "\n",
    "# The corresponding output tensor.\n",
    "output = [[11, 12, 13, 14],\n",
    "          [21, 22, 23, 24],\n",
    "          [31, 32, 33, 34]]\n",
    "\n",
    "# A list of relevant scalar constants, if any.\n",
    "constants = []\n",
    "\n",
    "# An English description of the tensor manipulation.\n",
    "description = 'add two vectors with broadcasting to get a matrix'"
   ]
  },
  {
   "cell_type": "markdown",
   "metadata": {
    "id": "hZK8-vAhiz6q"
   },
   "source": [
    "## Step 3: Run the TF-Coder tool"
   ]
  },
  {
   "cell_type": "code",
   "execution_count": 4,
   "metadata": {
    "cellView": "form",
    "colab": {
     "base_uri": "https://localhost:8080/"
    },
    "id": "Cn8Ofoo6i1W0",
    "outputId": "f87d2359-84f4-4691-d272-96e9ca50737d"
   },
   "outputs": [
    {
     "name": "stdout",
     "output_type": "stream",
     "text": [
      "Input 'rows':\n",
      "tf.Tensor([10 20 30], shape=(3,), dtype=int32)\n",
      "\n",
      "Input 'cols':\n",
      "tf.Tensor([1 2 3 4], shape=(4,), dtype=int32)\n",
      "\n",
      "Output:\n",
      "tf.Tensor(\n",
      "[[11 12 13 14]\n",
      " [21 22 23 24]\n",
      " [31 32 33 34]], shape=(3, 4), dtype=int32)\n",
      "\n",
      "Constants: [0, 1, -1, True, False, 3, 4]\n",
      "\n",
      "Description: add two vectors with broadcasting to get a matrix\n",
      "\n",
      "Searching...\n",
      "\n",
      "Found solution: tf.add(cols, tf.expand_dims(rows, 1))\n",
      "\n",
      "Solution was found in 0.3 seconds:\n",
      "tf.add(cols, tf.expand_dims(rows, 1))\n"
     ]
    }
   ],
   "source": [
    "#@title Run this cell to invoke TF-Coder on the problem from Step 2.\n",
    "\n",
    "ready = True\n",
    "try:\n",
    "  _ = colab_interface\n",
    "except NameError:\n",
    "  print('Run the cell in Step 1 first.')\n",
    "  ready = False\n",
    "try:\n",
    "  _ = (inputs, output, constants, description)\n",
    "except NameError:\n",
    "  print('Define the problem by running the cell in Step 2 first.')\n",
    "  ready = False\n",
    "\n",
    "#@markdown &nbsp;\n",
    "#@markdown #### **Settings for TF-Coder**\n",
    "#@markdown How long to search for a solution, in seconds.\n",
    "time_limit = 60  #@param {type: \"integer\"}\n",
    "#@markdown How many solutions to find before stopping. If more than 1, the entire search will slow down.\n",
    "number_of_solutions = 1  #@param{type: \"integer\"}\n",
    "#@markdown Whether solutions must use all inputs, at least one input, or no such requirement.\n",
    "solution_requirement = \"all inputs\" #@param [\"all inputs\", \"one input\", \"no restriction\"]\n",
    "\n",
    "settings = settings_module.from_dict({\n",
    "    'timeout': time_limit,\n",
    "    'only_minimal_solutions': False,\n",
    "    'max_solutions': number_of_solutions,\n",
    "    'require_all_inputs_used': solution_requirement == 'all inputs',\n",
    "    'require_one_input_used': solution_requirement == 'one input',\n",
    "})\n",
    "\n",
    "if ready:\n",
    "  if allow_data_collection:\n",
    "    problem_id = colab_logging.get_uuid()\n",
    "    colab_logging.log_problem(inputs, output, constants, description, settings,\n",
    "                              include_in_dataset=include_in_dataset,\n",
    "                              problem_id=problem_id)\n",
    "\n",
    "  # Results will be printed to the cell's output.\n",
    "  results = colab_interface.run_value_search_from_colab(\n",
    "      inputs, output, constants, description, settings)\n",
    "\n",
    "  if allow_data_collection:\n",
    "    colab_logging.log_result(results,\n",
    "                             include_in_dataset=include_in_dataset,\n",
    "                             problem_id=problem_id)"
   ]
  },
  {
   "cell_type": "markdown",
   "metadata": {
    "id": "ju9GylK-m-r6"
   },
   "source": [
    "# &nbsp;\n",
    "---\n"
   ]
  },
  {
   "cell_type": "markdown",
   "metadata": {
    "id": "EKWOuU6Ilr-3"
   },
   "source": [
    "## Usage Tips"
   ]
  },
  {
   "cell_type": "markdown",
   "metadata": {
    "id": "iTkbOQf5v23k"
   },
   "source": [
    "#### General"
   ]
  },
  {
   "cell_type": "markdown",
   "metadata": {
    "id": "EqaFf533vxdJ"
   },
   "source": [
    "* If TF-Coder finds a solution, it is _guaranteed_ that the solution produces\n",
    "  the example output when run on the example inputs. However, it is _not\n",
    "  guaranteed_ that the solution generalizes in the way you intend! Please\n",
    "  carefully review solutions produced by TF-Coder before using them in your real\n",
    "  project.\n",
    "\n",
    "* TF-Coder will often produce a solution that uses hardcoded constants for\n",
    "  shapes or lengths, e.g., `tf.reshape(to_flatten, (6,))` in order to flatten an\n",
    "  input tensor with shape `(2, 3)`. You may need to manually change these\n",
    "  constants to improve the generality of the solution, e.g., replacing `6` with\n",
    "  `-1` in this case. Use the shape attribute to obtain dimension lengths of\n",
    "  input tensors, e.g., `to_flatten.shape[0]` would be `2`.\n",
    "\n",
    "* If you want to play with TensorFlow in Colab (e.g., to understand how a\n",
    "  TF-Coder solution works or to test your own solution):\n",
    "  * The TF-Coder Colab already imports TensorFlow 2 and Numpy, for your\n",
    "    convenience.\n",
    "  * Use `tf.constant` to create a tensor from the list format:\n",
    "    ```\n",
    "    >>> tf.constant([[13, 22], [17, 5]])\n",
    "    <tf.Tensor: id=1, shape=(2, 2), dtype=int32, numpy=\n",
    "    array([[13, 22],\n",
    "           [17,  5]], dtype=int32)>\n",
    "\n",
    "    >>> tf.constant(12.3)\n",
    "    <tf.Tensor: id=2, shape=(), dtype=float32, numpy=12.3>\n",
    "    ```\n",
    "  * A Colab notebook can only have one cell running at a time. If you want to\n",
    "    experiment with TensorFlow code while TF-Coder is running, consider doing so\n",
    "    in a separate Python shell.\n",
    "\n",
    "* TF-Coder's running time is exponential in the complexity of the solution.\n",
    "  _Simplifying the problem_, or _breaking it down into multiple steps_, can help\n",
    "  TF-Coder find solutions quickly. For instance, if you know that a reshape,\n",
    "  transpose, cast, or other similar operation should be applied to an input or\n",
    "  as the last operation to produce the output, consider applying that operation\n",
    "  manually to the input-output example, to help TF-Coder focus on the more\n",
    "  difficult parts."
   ]
  },
  {
   "cell_type": "markdown",
   "metadata": {
    "id": "n7vV5e0Iv_rz"
   },
   "source": [
    "#### Input-Output Example"
   ]
  },
  {
   "cell_type": "markdown",
   "metadata": {
    "id": "cB337V-cwDbQ"
   },
   "source": [
    "Creating a good input-output example is crucial for TF-Coder to find the\n",
    "solution you want. The example should be robust enough to rule out _false\n",
    "positive solutions_, which are TensorFlow expressions that work on the given\n",
    "example, but fail to generalize in the desired way.\n",
    "\n",
    "Here are some techniques that reduce the risk of false positives:\n",
    "\n",
    "* **Include more numbers** in the input and output tensors. TF-Coder will only\n",
    "  output a solution if it works on the provided example, so having many numbers\n",
    "  in the output tensor means it is less likely for incorrect solutions to\n",
    "  produce all of the correct numbers by chance.\n",
    "\n",
    "* **Use random-looking numbers** in the input tensors. For example,\n",
    "  `[18, 73, 34, 51]` would be a better input tensor than `[1, 2, 3, 4]`, since\n",
    "  the former is not all consecutive and not all increasing. This helps eliminate\n",
    "  patterns in the input tensors that false positive solutions can take advantage\n",
    "  of.\n",
    "\n",
    "* **Remove patterns from the output other than the intended one**. For example,\n",
    "  if the output tensor is a selection of numbers from input tensors, make sure\n",
    "  the selected numbers aren't all the maximum element along some axis, unless\n",
    "  that is the intended pattern.\n",
    "\n",
    "* **Include edge cases** where relevant. These could include negative numbers,\n",
    "  zero, or duplicate numbers, when applicable to the problem.\n",
    "\n",
    "* **Distinguish between indices and non-indices**. If you know a number should\n",
    "  not be used as an index, consider making it out of range of valid indices\n",
    "  (negative, too large, or even floating-point).\n",
    "\n",
    "* **Follow any constraints that exist in your real program**. For example, if an\n",
    "  input tensor only contains positive numbers, TF-Coder may produce a solution\n",
    "  that doesn't generalize to negative numbers. Whether this is acceptable\n",
    "  depends on whether that tensor could possibly contain negative numbers in your\n",
    "  real program. Of course, depending on the problem, a completely general\n",
    "  solution may be unnecessarily harder to find.\n",
    "\n",
    "In general, false positive solutions are more common if the output tensor\n",
    "contains a relatively low amount of information given the inputs. This may\n",
    "happen if the output is a scalar or boolean tensor, or if the output is\n",
    "constructed by selecting one or a few elements from an input. When possible, try\n",
    "to include many numbers in the output so that it contains enough information to\n",
    "unambiguously identify the intended transformation."
   ]
  },
  {
   "cell_type": "markdown",
   "metadata": {
    "id": "8J9OmOq_wHFJ"
   },
   "source": [
    "#### Constants"
   ]
  },
  {
   "cell_type": "markdown",
   "metadata": {
    "id": "QfL1sYB5wJxC"
   },
   "source": [
    "* TF-Coder will print out the list of constants that it is using, including\n",
    "  constants chosen through heuristics. This list is ordered with highest-\n",
    "  priority constants at the beginning.\n",
    "* If the intended solution requires a constant that is not in TF-Coder's printed\n",
    "  list of constants, then TF-Coder will be _unable_ to find the intended\n",
    "  solution. So, it is important to provide any necessary constants.\n",
    "* If you explicitly provide constants, they will be used with the highest\n",
    "  priority. Thus, even if TF-Coder's heuristics choose your desired constant, it\n",
    "  may be better to provide the constant explicitly so that TF-Coder is more\n",
    "  confident about using your constant.\n",
    "* Providing extraneous constants will slow down the tool."
   ]
  },
  {
   "cell_type": "markdown",
   "metadata": {
    "id": "hex6HpsLwNzI"
   },
   "source": [
    "#### Description"
   ]
  },
  {
   "cell_type": "markdown",
   "metadata": {
    "id": "2GnVYA7_wL-R"
   },
   "source": [
    "* The description is optional. If provided, it is used to prioritize TensorFlow\n",
    "  operations that fit with the description.\n",
    "* If you know of a TensorFlow operation (e.g., `tf.reduce_max`) that is\n",
    "  relevant, include its name (e.g., \"tf.reduce_max\") anywhere in the\n",
    "  description. This will lead TF-Coder to prioritize that operation.\n",
    "* If possible, try to describe how the output should be computed, rather than\n",
    "  what the output conceptually represents.\n",
    "* A good description is less important than a good input-output example."
   ]
  },
  {
   "cell_type": "markdown",
   "metadata": {
    "id": "6sKleZJIwQkM"
   },
   "source": [
    "#### Other Details and Advanced Options"
   ]
  },
  {
   "cell_type": "markdown",
   "metadata": {
    "id": "WuDoERN0lx4a"
   },
   "source": [
    "* When running TF-Coder, you can set the time limit, the number of solutions to\n",
    "  find, and whether solutions are required to use inputs.\n",
    "  * Time limit: This is the maximum amount of time, in seconds, that TF-Coder\n",
    "    will spend on the problem before giving up. Note that you can stop the tool\n",
    "    at any time by pressing the cell's stop button.\n",
    "  * Number of solutions: TF-Coder can continue searching for more solutions\n",
    "    after the first solution is found. This can help you examine different ways\n",
    "    of solving the problem. However, enabling multiple solutions will cause the\n",
    "    entire search to slow down, even for the first solution.\n",
    "  * Solution requirement: By default, solutions are required to use every input\n",
    "    tensor at least once. This constraint can be relaxed to allow solutions that\n",
    "    use only one input (if there are multiple inputs), or even solutions that\n",
    "    use no inputs at all.\n",
    "\n",
    "* By default, integer tensors have a DType of `tf.int32`, and float tensors have\n",
    "  a DType of `tf.float32`. To specify a different DType, provide a `tf.Tensor`\n",
    "  object instead of a list. For example:\n",
    "  * If an input is given as `[3, 1, 7, 4]`, then it will have a DType of\n",
    "    `tf.int32`.\n",
    "  * If an input is given as `tf.constant([3, 1, 7, 4], dtype=tf.int64)`, then it\n",
    "    will have a DType of `tf.int64`.\n",
    "\n",
    "* A primitive scalar input can be specified with a Python float or int, and a\n",
    "  scalar tensor can be specified with a `tf.Tensor`:\n",
    "  * If an input is given as `[123]`, then it will be a 1-dimensional tensor with\n",
    "    shape `(1,)`, equivalent to `tf.constant([123])`.\n",
    "  * If an input is given as `123`, then it will remain a Python primitive int,\n",
    "    not a `tf.Tensor`.\n",
    "  * If an input is given as `tf.constant(123)`, then it will be a 0-dimensional\n",
    "    scalar tensor with shape `()`.\n",
    "\n",
    "* Input and output tensors can have at most 4 dimensions."
   ]
  },
  {
   "cell_type": "markdown",
   "metadata": {
    "id": "pHYlFkj6l5af"
   },
   "source": [
    "## Example problems that TF-Coder can solve"
   ]
  },
  {
   "cell_type": "markdown",
   "metadata": {
    "id": "jIwb8VOombkU"
   },
   "source": [
    "Here are several examples of real-life problems that TF-Coder can solve."
   ]
  },
  {
   "cell_type": "code",
   "execution_count": null,
   "metadata": {
    "id": "QfGTQ7hF4VPV"
   },
   "outputs": [],
   "source": [
    "# Real task encountered by a Googler.\n",
    "inputs = {\n",
    "    'tensor': [[0, 1, 0, 0],\n",
    "               [0, 1, 1, 0],\n",
    "               [1, 1, 1, 1]],\n",
    "}\n",
    "output = [[0.0, 1.0, 0.0, 0.0],\n",
    "          [0.0, 0.5, 0.5, 0.0],\n",
    "          [0.25, 0.25, 0.25, 0.25]]\n",
    "constants = []\n",
    "description = 'normalize the rows of a tensor'"
   ]
  },
  {
   "cell_type": "code",
   "execution_count": null,
   "metadata": {
    "id": "0wzohJ299ObT"
   },
   "outputs": [],
   "source": [
    "# Real task encountered by a Googler.\n",
    "inputs = {\n",
    "    'elements': [0, 0, 0, 1, 3, 3],\n",
    "}\n",
    "output = [[0, 0], [0, 1], [0, 2], [1, 0], [3, 0], [3, 1]]\n",
    "constants = []\n",
    "description = 'pair each element with a counter'"
   ]
  },
  {
   "cell_type": "code",
   "execution_count": null,
   "metadata": {
    "id": "7DvZW75z4ZwN"
   },
   "outputs": [],
   "source": [
    "# Real task encountered by a Googler.\n",
    "inputs = {\n",
    "    'sparse': tf.SparseTensor(\n",
    "        indices=[[0, 0, 0], [0, 1, 1], [1, 1, 1], [1, 1, 2]],\n",
    "        values=[1., 1., 1., 1.],\n",
    "        dense_shape=[2, 2, 800]),\n",
    "}\n",
    "output = tf.SparseTensor(\n",
    "    indices=[[0, 0, 0], [0, 1, 1]],\n",
    "    values=[1., 1.],\n",
    "    dense_shape=[1, 2, 800])\n",
    "constants = []\n",
    "description = 'slice index 0 of the first dimension of a SparseTensor'"
   ]
  },
  {
   "cell_type": "code",
   "execution_count": null,
   "metadata": {
    "id": "rv8jFiQvQYEC"
   },
   "outputs": [],
   "source": [
    "# Real task encountered by a Googler.\n",
    "inputs = {\n",
    "    'lengths': [3, 4, 2, 1],\n",
    "}\n",
    "output = [[1, 1, 1, 0, 0],\n",
    "          [1, 1, 1, 1, 0],\n",
    "          [1, 1, 0, 0, 0],\n",
    "          [1, 0, 0, 0, 0]]\n",
    "constants = [5]\n",
    "description = 'create a mask for sequences of the given lengths'"
   ]
  },
  {
   "cell_type": "code",
   "execution_count": null,
   "metadata": {
    "id": "pL50uFHLyu8l"
   },
   "outputs": [],
   "source": [
    "# Real task encountered by a Googler.\n",
    "inputs = {\n",
    "    'segments': [ 1,  1,  1,  0,  0,  2],\n",
    "    'data':     [10, 20, 30, 14, 15, 26],\n",
    "}\n",
    "output = [14, 15, 10, 20, 30, 26]\n",
    "constants = []\n",
    "description = 'sort the segments'"
   ]
  },
  {
   "cell_type": "code",
   "execution_count": null,
   "metadata": {
    "id": "DCvkqaXs4fyU"
   },
   "outputs": [],
   "source": [
    "# Adapted from https://stackoverflow.com/questions/53054668\n",
    "inputs = {\n",
    "    'values': [37, 42, 42, 37, 28, 15, 42, 15],\n",
    "}\n",
    "output = [0, 1, 1, 0, 2, 3, 1, 3]\n",
    "constants = []\n",
    "description = 'group items by value and get the group indices'"
   ]
  },
  {
   "cell_type": "code",
   "execution_count": null,
   "metadata": {
    "id": "A4hI5vMLYQNj"
   },
   "outputs": [],
   "source": [
    "# Adapted from https://stackoverflow.com/questions/47816231\n",
    "inputs = {\n",
    "    'vector': [3, 5, 0, 2, 3, 3, 0],\n",
    "}\n",
    "output = [[1., 0., 0., 0., 1., 1., 0.],\n",
    "          [0., 1., 0., 0., 0., 0., 0.],\n",
    "          [0., 0., 1., 0., 0., 0., 1.],\n",
    "          [0., 0., 0., 1., 0., 0., 0.],\n",
    "          [1., 0., 0., 0., 1., 1., 0.],\n",
    "          [1., 0., 0., 0., 1., 1., 0.],\n",
    "          [0., 0., 1., 0., 0., 0., 1.]]\n",
    "constants = []\n",
    "description = 'binary tensor from vector indicating if elements are equal'"
   ]
  },
  {
   "cell_type": "code",
   "execution_count": null,
   "metadata": {
    "id": "TbbocD0o0PYC"
   },
   "outputs": [],
   "source": [
    "# Adapted from https://stackoverflow.com/questions/44834739\n",
    "inputs = {\n",
    "    'scores': [[0.7, 0.2, 0.1],\n",
    "               [0.4, 0.5, 0.1],\n",
    "               [0.4, 0.4, 0.2],\n",
    "               [0.3, 0.4, 0.3],\n",
    "               [0.0, 0.0, 1.0]],\n",
    "}\n",
    "output = [[1, 0, 0],\n",
    "          [0, 1, 0],\n",
    "          [1, 0, 0],\n",
    "          [0, 1, 0],\n",
    "          [0, 0, 1]]\n",
    "constants = []\n",
    "description = 'compute argmax in each tensor and set it to 1'"
   ]
  },
  {
   "cell_type": "code",
   "execution_count": null,
   "metadata": {
    "id": "FUUUBi7HI3Hr"
   },
   "outputs": [],
   "source": [
    "# Adapted from https://stackoverflow.com/questions/33769041\n",
    "inputs = {\n",
    "    'first': [-1, 0, -3, 2, 1, 3, 5, -1, -9, 2, 10],\n",
    "    'second': [12, 3, 45, 6, 7, 8, 9, 87, 65, 4, 32],\n",
    "}\n",
    "output = [6, 8, 9, 4, 32]\n",
    "constants = [1]\n",
    "description = 'select the values in the second tensor where the first tensor is greater than 1'"
   ]
  },
  {
   "cell_type": "markdown",
   "metadata": {
    "id": "Q6uRr4x9WHRC"
   },
   "source": [
    "## Supported Operations"
   ]
  },
  {
   "cell_type": "code",
   "execution_count": 5,
   "metadata": {
    "colab": {
     "base_uri": "https://localhost:8080/"
    },
    "id": "XvHDbukUWNKn",
    "outputId": "80d91e78-31a0-45d2-d4e4-692a4064e3e6"
   },
   "outputs": [
    {
     "name": "stdout",
     "output_type": "stream",
     "text": [
      "TensorFlow functions:\n",
      "---------------------\n",
      "tf.abs(x)\n",
      "tf.add(x, y)\n",
      "tf.add_n(inputs)\n",
      "tf.argmax(input, axis)\n",
      "tf.argmin(input, axis)\n",
      "tf.argsort(values, axis, stable=True)\n",
      "tf.argsort(values, axis, direction='DESCENDING', stable=True)\n",
      "tf.boolean_mask(tensor, mask)\n",
      "tf.broadcast_to(input, shape)\n",
      "tf.cast(x, dtype)\n",
      "tf.clip_by_value(t, clip_value_min, clip_value_max)\n",
      "tf.concat(values, axis)\n",
      "tf.constant(value)\n",
      "tf.constant(value, dtype)\n",
      "tf.divide(x, y)\n",
      "tf.equal(x, y)\n",
      "tf.exp(x)\n",
      "tf.expand_dims(input, axis)\n",
      "tf.eye(num_rows)\n",
      "tf.eye(num_rows, num_columns)\n",
      "tf.eye(num_rows, dtype)\n",
      "tf.fill(dims, value)\n",
      "tf.gather(params, indices)\n",
      "tf.gather(params, indices, axis, batch_dims)\n",
      "tf.gather_nd(params, indices)\n",
      "tf.gather_nd(params, indices, batch_dims)\n",
      "tf.greater(x, y)\n",
      "tf.greater_equal(x, y)\n",
      "tf.math.bincount(arr)\n",
      "tf.math.ceil(x)\n",
      "tf.math.count_nonzero(input)\n",
      "tf.math.count_nonzero(input, axis)\n",
      "tf.math.cumsum(x, axis)\n",
      "tf.math.cumsum(x, axis, exclusive=True)\n",
      "tf.math.divide_no_nan(x, y)\n",
      "tf.math.floor(x)\n",
      "tf.math.log(x)\n",
      "tf.math.negative(x)\n",
      "tf.math.reciprocal(x)\n",
      "tf.math.reciprocal_no_nan(x)\n",
      "tf.math.segment_max(data, segment_ids)\n",
      "tf.math.segment_mean(data, segment_ids)\n",
      "tf.math.segment_min(data, segment_ids)\n",
      "tf.math.segment_prod(data, segment_ids)\n",
      "tf.math.segment_sum(data, segment_ids)\n",
      "tf.math.squared_difference(x, y)\n",
      "tf.math.top_k(input, k)\n",
      "tf.math.unsorted_segment_max(data, segment_ids, num_segments)\n",
      "tf.math.unsorted_segment_mean(data, segment_ids, num_segments)\n",
      "tf.math.unsorted_segment_min(data, segment_ids, num_segments)\n",
      "tf.math.unsorted_segment_prod(data, segment_ids, num_segments)\n",
      "tf.math.unsorted_segment_sum(data, segment_ids, num_segments)\n",
      "tf.matmul(a, b)\n",
      "tf.maximum(x, y)\n",
      "tf.minimum(x, y)\n",
      "tf.multiply(x, y)\n",
      "tf.not_equal(x, y)\n",
      "tf.one_hot(indices, depth)\n",
      "tf.ones(shape)\n",
      "tf.ones_like(input)\n",
      "tf.pad(tensor, paddings, mode='CONSTANT')\n",
      "tf.pad(tensor, paddings, mode='CONSTANT', constant_values)\n",
      "tf.pad(tensor, paddings, mode='REFLECT')\n",
      "tf.pad(tensor, paddings, mode='SYMMETRIC')\n",
      "tf.range(start)\n",
      "tf.range(start, limit, delta)\n",
      "tf.reduce_any(input_tensor, axis)\n",
      "tf.reduce_max(input_tensor)\n",
      "tf.reduce_max(input_tensor, axis)\n",
      "tf.reduce_mean(input_tensor)\n",
      "tf.reduce_mean(input_tensor, axis)\n",
      "tf.reduce_min(input_tensor)\n",
      "tf.reduce_min(input_tensor, axis)\n",
      "tf.reduce_prod(input_tensor, axis)\n",
      "tf.reduce_sum(input_tensor)\n",
      "tf.reduce_sum(input_tensor, axis)\n",
      "tf.reshape(tensor, shape)\n",
      "tf.reverse(tensor, axis)\n",
      "tf.roll(input, shift, axis)\n",
      "tf.round(x)\n",
      "tf.scatter_nd(indices, updates, shape)\n",
      "tf.searchsorted(sorted_sequence, values, side='left')\n",
      "tf.searchsorted(sorted_sequence, values, side='right')\n",
      "tf.sequence_mask(lengths)\n",
      "tf.sequence_mask(lengths, maxlen)\n",
      "tf.shape(input)\n",
      "tf.sign(x)\n",
      "tf.sort(values, axis)\n",
      "tf.sort(values, axis, direction='DESCENDING')\n",
      "tf.sqrt(x)\n",
      "tf.square(x)\n",
      "tf.squeeze(input)\n",
      "tf.squeeze(input, axis)\n",
      "tf.stack(values, axis)\n",
      "tf.subtract(x, y)\n",
      "tf.tensor_scatter_nd_update(tensor, indices, updates)\n",
      "tf.tensordot(a, b, axes)\n",
      "tf.tile(input, multiples)\n",
      "tf.transpose(a)\n",
      "tf.transpose(a, perm)\n",
      "tf.unique_with_counts(x)\n",
      "tf.unstack(value, axis)\n",
      "tf.where(condition)\n",
      "tf.where(condition, x, y)\n",
      "tf.zeros(shape)\n",
      "tf.zeros_like(input)\n",
      "\n",
      "SparseTensor functions:\n",
      "-----------------------\n",
      "tf.SparseTensor(indices, values, dense_shape)\n",
      "tf.sparse.add(a, b)\n",
      "tf.sparse.concat(axis, sp_inputs)\n",
      "tf.sparse.expand_dims(sp_input, axis)\n",
      "tf.sparse.from_dense(tensor)\n",
      "tf.sparse.maximum(sp_a, sp_b)\n",
      "tf.sparse.minimum(sp_a, sp_b)\n",
      "tf.sparse.reduce_max(sp_input, axis, output_is_sparse)\n",
      "tf.sparse.reduce_sum(sp_input, axis, output_is_sparse)\n",
      "tf.sparse.reset_shape(sp_input)\n",
      "tf.sparse.reshape(sp_input, shape)\n",
      "tf.sparse.retain(sp_input, to_retain)\n",
      "tf.sparse.slice(sp_input, start, size)\n",
      "tf.sparse.split(sp_input, num_split, axis)\n",
      "tf.sparse.to_dense(sp_input)\n",
      "tf.sparse.to_dense(sp_input, default_value)\n",
      "tf.sparse.to_indicator(sp_input, vocab_size)\n",
      "tf.sparse.transpose(sp_input)\n",
      "tf.sparse.transpose(sp_input, perm)\n",
      "\n",
      "Python-syntax operations:\n",
      "-------------------------\n",
      "IndexingAxis1Operation:             arg1[:, arg2]\n",
      "IndexingOperation:                  arg1[arg2]\n",
      "PairCreationOperation:              (arg1, arg2)\n",
      "SingletonTupleCreationOperation:    (arg1,)\n",
      "SlicingAxis0BothOperation:          arg1[arg2:arg3]\n",
      "SlicingAxis0LeftOperation:          arg1[arg2:]\n",
      "SlicingAxis0RightOperation:         arg1[:arg2]\n",
      "SlicingAxis1BothOperation:          arg1[:, arg2:arg3]\n",
      "SlicingAxis1LeftOperation:          arg1[:, arg2:]\n",
      "SlicingAxis1RightOperation:         arg1[:, :arg2]\n",
      "TripleCreationOperation:            (arg1, arg2, arg3)\n"
     ]
    }
   ],
   "source": [
    "# Run this cell to print all supported operations.\n",
    "colab_interface.print_supported_operations()"
   ]
  },
  {
   "cell_type": "markdown",
   "metadata": {
    "id": "NYWv_mSbmfOO"
   },
   "source": [
    "## Feedback? Questions?"
   ]
  },
  {
   "cell_type": "markdown",
   "metadata": {
    "id": "NCdv8OzQmn0j"
   },
   "source": [
    "More information and resources about TF-Coder can be found at our [GitHub repo](https://github.com/google-research/tensorflow-coder).\n",
    "\n",
    "To report a bug or make a feature request, please raise a\n",
    "[GitHub issue](https://github.com/google-research/tensorflow-coder/issues).\n",
    "\n",
    "If you have accidentally run the TF-Coder tool on *personal or confidential information*, and you have agreed to the *public release* of your TF-Coder usage data, you may reach out to tf-coder-support@google.com to request removal of your data from the public release. Such requests will be handled on a best-effort basis with no guarantee of success. Again, please do not run the TF-Coder tool on personal or confidential information.\n",
    "\n",
    "This is a research project, not an official Google product."
   ]
  }
 ],
 "metadata": {
  "colab": {
   "collapsed_sections": [
    "5u_aruynnBDo",
    "EKWOuU6Ilr-3",
    "pHYlFkj6l5af",
    "Q6uRr4x9WHRC",
    "NYWv_mSbmfOO"
   ],
   "name": "TF-Coder Colab.ipynb",
   "provenance": []
  },
  "kernelspec": {
   "display_name": "Python 3",
   "language": "python",
   "name": "python3"
  },
  "language_info": {
   "codemirror_mode": {
    "name": "ipython",
    "version": 3
   },
   "file_extension": ".py",
   "mimetype": "text/x-python",
   "name": "python",
   "nbconvert_exporter": "python",
   "pygments_lexer": "ipython3",
   "version": "3.8.2"
  }
 },
 "nbformat": 4,
 "nbformat_minor": 1
}
